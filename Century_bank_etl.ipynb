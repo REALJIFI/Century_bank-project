{
 "cells": [
  {
   "cell_type": "markdown",
   "metadata": {},
   "source": [
    "### Import necessary dependencies"
   ]
  },
  {
   "cell_type": "code",
   "execution_count": 24,
   "metadata": {},
   "outputs": [],
   "source": [
    "#!pip install setuptools\n",
    "\n",
    "#!pip install --upgrade pandas\n"
   ]
  },
  {
   "cell_type": "code",
   "execution_count": 25,
   "metadata": {},
   "outputs": [],
   "source": [
    "\n",
    "from pyspark.sql import SparkSession\n",
    "from pyspark.sql.functions import monotonically_increasing_id \n",
    "import pandas as pd\n",
    "from datetime import datetime, timedelta\n",
    "from sqlalchemy import create_engine\n",
    "import os\n",
    "from dotenv import load_dotenv"
   ]
  },
  {
   "cell_type": "code",
   "execution_count": 26,
   "metadata": {},
   "outputs": [],
   "source": [
    "## set jave home to avoid java running with the previous version\n",
    "os.environ['JAVA_HOME'] = r'C:\\Program Files\\Java\\jdk1.8.0_202'"
   ]
  },
  {
   "cell_type": "code",
   "execution_count": 27,
   "metadata": {},
   "outputs": [],
   "source": [
    "#ENABLING FIREWALLS BLOCKING\n",
    "#import os\n",
    "os.environ[\"PYSPARK_ALLOW_INSECURE_GATEWAY\"] = \"1\""
   ]
  },
  {
   "cell_type": "code",
   "execution_count": null,
   "metadata": {},
   "outputs": [],
   "source": [
    "# initialize my spark seesion with allowed security\n",
    "from pyspark.sql import SparkSession # type: ignore\n",
    "\n",
    "spark = SparkSession.builder \\\n",
    "    .appName(\"GWIHR_PROJECT\") \\\n",
    "    .config(\"spark.jars\", r\"postgresql-42.7.4.jar\") \\\n",
    "    .getOrCreate()\n",
    "spark"
   ]
  },
  {
   "cell_type": "markdown",
   "metadata": {},
   "source": [
    "### Data Extraction"
   ]
  },
  {
   "cell_type": "code",
   "execution_count": 29,
   "metadata": {},
   "outputs": [
    {
     "name": "stdout",
     "output_type": "stream",
     "text": [
      "+--------------------+------+----------------+--------------+--------------------+------------------+--------------+--------------------+--------------------+--------------------+--------------------+-------------------+------------------+--------------------+-------------+-------------+--------+-----+---------+--------------------+--------------------+------+--------------+\n",
      "|    Transaction_Date|Amount|Transaction_Type| Customer_Name|    Customer_Address|     Customer_City|Customer_State|    Customer_Country|             Company|           Job_Title|               Email|       Phone_Number|Credit_Card_Number|                IBAN|Currency_Code|Random_Number|Category|Group|Is_Active|        Last_Updated|         Description|Gender|Marital_Status|\n",
      "+--------------------+------+----------------+--------------+--------------------+------------------+--------------+--------------------+--------------------+--------------------+--------------------+-------------------+------------------+--------------------+-------------+-------------+--------+-----+---------+--------------------+--------------------+------+--------------+\n",
      "|2024-03-23 15:38:...| 34.76|      Withdrawal|    James Neal|54912 Holmes Lodg...| West Keithborough|       Florida|                Togo|Benson, Johnson a...|                null|                null|  493.720.6609x7545|  3592901394693441|GB98RBPP090285271...|          MAD|       3167.0|       C|    Z|       No|2020-06-20 03:04:...|Yeah food anythin...| Other|      Divorced|\n",
      "|2024-04-22 19:15:...|163.92|      Withdrawal|   Thomas Long| 1133 Collin Passage|        Joshuabury|   Connecticut|Lao People's Demo...|                null|   Food technologist|michellelynch@exa...|      (497)554-3317|              null|GB03KFZR339662263...|          VEF|       2122.0|       B|    Z|     null|2020-12-27 13:23:...|Teach edge make n...|Female|       Married|\n",
      "|2024-04-12 19:46:...|386.32|      Withdrawal|Ashley Shelton|5297 Johnson Port...|       North Maria|    New Jersey|              Bhutan|       Jones-Mueller|Database administ...| ljordan@example.org|      (534)769-3072|      675983949974|GB59QYRN446730519...|          COP|       7796.0|       C|    Z|       No|2020-01-24 01:23:...|Again line face c...| Other|          null|\n",
      "|2024-04-17 15:29:...|407.15|         Deposit| James Rosario|56955 Moore Glens...|North Michellefurt|    New Mexico|             Iceland|       Vargas-Harris|Horticultural the...|parkerjames@examp...|+1-447-900-1320x257|     4761202519057|GB74FTDO268299438...|          BWP|       6284.0|       C|    Z|      Yes|2023-09-27 03:01:...|     Bag my a drive.|  null|          null|\n",
      "|2024-02-10 01:51:...|161.31|         Deposit|Miguel Leonard|262 Beck Expressw...|              null| West Virginia|             Eritrea|Richardson, Gonza...|   Minerals surveyor| zweaver@example.net|               null|   213156729655186|GB94EWRN587847592...|          SOS|       9179.0|       C|    Y|       No|2022-01-22 19:08:...|Husband find ok w...|Female|       Married|\n",
      "+--------------------+------+----------------+--------------+--------------------+------------------+--------------+--------------------+--------------------+--------------------+--------------------+-------------------+------------------+--------------------+-------------+-------------+--------+-----+---------+--------------------+--------------------+------+--------------+\n",
      "only showing top 5 rows\n",
      "\n"
     ]
    }
   ],
   "source": [
    "Century_bank_df = spark.read.csv(r'Raw_data\\Century_bank_transactions.csv',header = True)\n",
    "Century_bank_df.show(5)"
   ]
  },
  {
   "cell_type": "code",
   "execution_count": null,
   "metadata": {},
   "outputs": [],
   "source": [
    "## To read your file and also show the correct datatype,\n",
    "Century_bank_df = spark.read.csv(r'Raw_data\\Century_bank_transactions.csv',header = True, inferSchema=True)\n",
    "\n",
    "Century_bank_df.printSchema()"
   ]
  },
  {
   "cell_type": "markdown",
   "metadata": {},
   "source": [
    "### Data Cleaning and Transformation"
   ]
  },
  {
   "cell_type": "code",
   "execution_count": null,
   "metadata": {},
   "outputs": [],
   "source": [
    "# check your columns\n",
    "Century_bank_df.columns"
   ]
  },
  {
   "cell_type": "code",
   "execution_count": 32,
   "metadata": {},
   "outputs": [
    {
     "data": {
      "text/plain": [
       "1000000"
      ]
     },
     "execution_count": 32,
     "metadata": {},
     "output_type": "execute_result"
    }
   ],
   "source": [
    "# check number of rows\n",
    "num_rows = Century_bank_df.count()\n",
    "\n",
    "num_rows"
   ]
  },
  {
   "cell_type": "code",
   "execution_count": 33,
   "metadata": {},
   "outputs": [
    {
     "data": {
      "text/plain": [
       "23"
      ]
     },
     "execution_count": 33,
     "metadata": {},
     "output_type": "execute_result"
    }
   ],
   "source": [
    "# check number of columns\n",
    "num_columns = len(Century_bank_df.columns)\n",
    "num_columns"
   ]
  },
  {
   "cell_type": "code",
   "execution_count": null,
   "metadata": {},
   "outputs": [],
   "source": [
    "# checking for null values\n",
    "for columns in Century_bank_df.columns:\n",
    "        print(columns, 'nulls', Century_bank_df.filter(Century_bank_df[columns].isNull()).count())"
   ]
  },
  {
   "cell_type": "code",
   "execution_count": 35,
   "metadata": {},
   "outputs": [],
   "source": [
    "# copy dataframe to avoid altering the original dataset\n",
    "Century_bank_clean = Century_bank_df"
   ]
  },
  {
   "cell_type": "code",
   "execution_count": 36,
   "metadata": {},
   "outputs": [],
   "source": [
    "# fill up missing or null values with necessary default values\n",
    "Century_bank_clean = Century_bank_df.fillna({\n",
    "    'Customer_Name': 'unknown',\n",
    "    'Customer_Address': 'unknown',\n",
    "    'Customer_City': 'unknown',\n",
    "    'Customer_State':'unknown',\n",
    "    'Customer_Country': 'unknown',\n",
    "    'Company': 'unknown',\n",
    "    'Job_Title': 'unknown',\n",
    "    'Email': 'unknown',\n",
    "    'Phone_Number': 'unknown',\n",
    "    'Credit_Card_Number': 0,\n",
    "    'IBAN': 'unknown',\n",
    "    'Currency_Code': 'unknown',\n",
    "    'Random_Number': 0.0,\n",
    "    'Category': 'unknown',\n",
    "    'Group': 'unknown',\n",
    "    'Is_Active': 'unknown',\n",
    "    'Description': 'unknown',\n",
    "    'Gender': 'unknown',\n",
    "    'Marital_Status': 'unknown'\n",
    "})"
   ]
  },
  {
   "cell_type": "code",
   "execution_count": 37,
   "metadata": {},
   "outputs": [],
   "source": [
    "# Drop rows where last updated is null\n",
    "Century_bank_clean = Century_bank_clean.na.drop(subset=['Last_Updated'])\n",
    "\n",
    "## Why is this important?\n",
    "# --- For Data Quality:\n",
    "#--- Last_Updated is likely a timestamp or date column showing when a record was last modified or updated.\n",
    "\n",
    "#--- If that info is missing, the record might be incomplete, outdated, or unreliable, and could distort your analysis.\n",
    "\n",
    "\n"
   ]
  },
  {
   "cell_type": "code",
   "execution_count": 38,
   "metadata": {},
   "outputs": [
    {
     "data": {
      "text/plain": [
       "899679"
      ]
     },
     "execution_count": 38,
     "metadata": {},
     "output_type": "execute_result"
    }
   ],
   "source": [
    "# confirm changes made for drop command.\n",
    "num_rows = Century_bank_clean.count()\n",
    "\n",
    "num_rows"
   ]
  },
  {
   "cell_type": "code",
   "execution_count": 39,
   "metadata": {},
   "outputs": [
    {
     "name": "stdout",
     "output_type": "stream",
     "text": [
      "Transaction_Date nulls 0\n",
      "Amount nulls 0\n",
      "Transaction_Type nulls 0\n",
      "Customer_Name nulls 0\n",
      "Customer_Address nulls 0\n",
      "Customer_City nulls 0\n",
      "Customer_State nulls 0\n",
      "Customer_Country nulls 0\n",
      "Company nulls 0\n",
      "Job_Title nulls 0\n",
      "Email nulls 0\n",
      "Phone_Number nulls 0\n",
      "Credit_Card_Number nulls 0\n",
      "IBAN nulls 0\n",
      "Currency_Code nulls 0\n",
      "Random_Number nulls 0\n",
      "Category nulls 0\n",
      "Group nulls 0\n",
      "Is_Active nulls 0\n",
      "Last_Updated nulls 0\n",
      "Description nulls 0\n",
      "Gender nulls 0\n",
      "Marital_Status nulls 0\n"
     ]
    }
   ],
   "source": [
    "# confirm changes made for null values\n",
    "for columns in Century_bank_clean.columns:\n",
    "        print(columns, 'nulls', Century_bank_clean.filter(Century_bank_clean[columns].isNull()).count())"
   ]
  },
  {
   "cell_type": "code",
   "execution_count": 40,
   "metadata": {},
   "outputs": [
    {
     "name": "stdout",
     "output_type": "stream",
     "text": [
      "+--------------------+------+----------------+--------------+--------------------+--------------------+--------------+--------------------+--------------------+--------------------+--------------------+-------------------+-------------------+--------------------+-------------+-------------+--------+-------+---------+--------------------+--------------------+-------+--------------+\n",
      "|    Transaction_Date|Amount|Transaction_Type| Customer_Name|    Customer_Address|       Customer_City|Customer_State|    Customer_Country|             Company|           Job_Title|               Email|       Phone_Number| Credit_Card_Number|                IBAN|Currency_Code|Random_Number|Category|  Group|Is_Active|        Last_Updated|         Description| Gender|Marital_Status|\n",
      "+--------------------+------+----------------+--------------+--------------------+--------------------+--------------+--------------------+--------------------+--------------------+--------------------+-------------------+-------------------+--------------------+-------------+-------------+--------+-------+---------+--------------------+--------------------+-------+--------------+\n",
      "|2024-03-23 15:38:...| 34.76|      Withdrawal|    James Neal|54912 Holmes Lodg...|   West Keithborough|       Florida|                Togo|Benson, Johnson a...|             unknown|             unknown|  493.720.6609x7545|   3592901394693441|GB98RBPP090285271...|          MAD|       3167.0|       C|      Z|       No|2020-06-20 03:04:...|Yeah food anythin...|  Other|      Divorced|\n",
      "|2024-04-22 19:15:...|163.92|      Withdrawal|   Thomas Long| 1133 Collin Passage|          Joshuabury|   Connecticut|Lao People's Demo...|             unknown|   Food technologist|michellelynch@exa...|      (497)554-3317|                  0|GB03KFZR339662263...|          VEF|       2122.0|       B|      Z|  unknown|2020-12-27 13:23:...|Teach edge make n...| Female|       Married|\n",
      "|2024-04-12 19:46:...|386.32|      Withdrawal|Ashley Shelton|5297 Johnson Port...|         North Maria|    New Jersey|              Bhutan|       Jones-Mueller|Database administ...| ljordan@example.org|      (534)769-3072|       675983949974|GB59QYRN446730519...|          COP|       7796.0|       C|      Z|       No|2020-01-24 01:23:...|Again line face c...|  Other|       unknown|\n",
      "|2024-04-17 15:29:...|407.15|         Deposit| James Rosario|56955 Moore Glens...|  North Michellefurt|    New Mexico|             Iceland|       Vargas-Harris|Horticultural the...|parkerjames@examp...|+1-447-900-1320x257|      4761202519057|GB74FTDO268299438...|          BWP|       6284.0|       C|      Z|      Yes|2023-09-27 03:01:...|     Bag my a drive.|unknown|       unknown|\n",
      "|2024-02-10 01:51:...|161.31|         Deposit|Miguel Leonard|262 Beck Expressw...|             unknown| West Virginia|             Eritrea|Richardson, Gonza...|   Minerals surveyor| zweaver@example.net|            unknown|    213156729655186|GB94EWRN587847592...|          SOS|       9179.0|       C|      Y|       No|2022-01-22 19:08:...|Husband find ok w...| Female|       Married|\n",
      "|2024-02-10 22:56:...|764.34|        Transfer|   Jesse Clark|      194 Derek Burg|        Wallacemouth|    New Mexico|             Estonia|           Smith Ltd| Seismic interpreter|benjaminwalker@ex...|   229-511-2530x870|       501851472974|             unknown|          ZWD|          0.0|       B|      Z|      Yes|2023-02-18 19:26:...|             unknown|  Other|       Married|\n",
      "|2024-04-07 00:07:...|734.59|         Deposit|    Mark Estes|4077 James Lane A...|      Williamsonport|      Michigan|Antarctica (the t...|         Wade-Kelley|  Surveyor, minerals|karenrobinson@exa...|      (840)334-1610|4543690154172468535|GB55FCPC779828821...|          CAD|       7304.0|       A|      X|      Yes|2020-10-27 16:48:...|Standard prepare ...|   Male|       unknown|\n",
      "|2024-03-08 01:51:...|592.43|         Deposit|    Kelly Ruiz|             unknown|          New Lauren|       unknown|             unknown|             unknown|Medical laborator...|  iestes@example.org| 495.430.4276x42618|      4500718397537|GB78FDAJ595830659...|          RON|       2445.0|       B|      X|       No|2022-11-19 08:59:...|             unknown| Female|        Single|\n",
      "|2024-02-01 12:34:...| 927.1|         Deposit|     Brad Yang|    579 Nolan Harbor|South Christopher...|  South Dakota|             unknown|         Lindsey LLC|Programmer, appli...|maryduran@example...|  (241)738-0972x658|    180039947294310|GB48WNWB013807482...|          HRK|       3061.0|       B|      X|       No|2020-08-31 20:40:...|Notice paper son ...| Female|        Single|\n",
      "|2024-03-22 16:46:...| 66.59|        Transfer|Dalton Jimenez|4330 Christine Vista|        Port Kirsten|       unknown|            Cameroon|         Carroll LLC|             unknown|             unknown|       670-499-0309|    213171934267032|GB05MHXA361278613...|          BAM|       3958.0| unknown|unknown|      Yes|2022-09-19 03:52:...|He wish soldier t...|   Male|        Single|\n",
      "+--------------------+------+----------------+--------------+--------------------+--------------------+--------------+--------------------+--------------------+--------------------+--------------------+-------------------+-------------------+--------------------+-------------+-------------+--------+-------+---------+--------------------+--------------------+-------+--------------+\n",
      "only showing top 10 rows\n",
      "\n"
     ]
    }
   ],
   "source": [
    "# To have an overview of summary statistics of the data\n",
    "Century_bank_clean.show(10)"
   ]
  },
  {
   "cell_type": "code",
   "execution_count": 41,
   "metadata": {},
   "outputs": [],
   "source": [
    "# create a data model using the appropriate tool ( lucid or draw io)\n"
   ]
  },
  {
   "cell_type": "code",
   "execution_count": 42,
   "metadata": {},
   "outputs": [],
   "source": [
    "#Century_bank_clean.columns"
   ]
  },
  {
   "cell_type": "markdown",
   "metadata": {},
   "source": [
    "### Table creation"
   ]
  },
  {
   "cell_type": "code",
   "execution_count": 43,
   "metadata": {},
   "outputs": [],
   "source": [
    "# Transactaction table\n",
    "Transaction = Century_bank_clean.select('Transaction_Date', 'Amount', 'Transaction_Type')\n",
    "# Add the transaction_ID column\n",
    "Transaction = Transaction.withColumn('Transaction_ID', monotonically_increasing_id())\n",
    "# Reordering columns to make sure the added column comes first\n",
    "Transaction = Transaction.select('Transaction_ID','Transaction_Date', 'Amount', 'Transaction_Type')\n",
    "\n",
    "#Transaction.show(5)"
   ]
  },
  {
   "cell_type": "code",
   "execution_count": 44,
   "metadata": {},
   "outputs": [],
   "source": [
    "# Customer table\n",
    "# to reduce reductancy or repeatation where one customer made multiple purchase use (.distinct)\n",
    "Customer = Century_bank_clean.select('Customer_Name','Customer_Address','Customer_City',\n",
    "                                        'Customer_State','Customer_Country','Email','Phone_Number').distinct()\n",
    "# Add the Customer_ID column\n",
    "Customer = Customer.withColumn('Customer_ID', monotonically_increasing_id())\n",
    "# Reordering columns to make sure the added column comes first\n",
    "Customer = Customer.select('Customer_ID','Customer_Name','Customer_Address','Customer_City',\n",
    "                                        'Customer_State','Customer_Country','Email','Phone_Number')\n",
    "\n",
    "#Customer.show()"
   ]
  },
  {
   "cell_type": "code",
   "execution_count": 45,
   "metadata": {},
   "outputs": [],
   "source": [
    "# Employee table\n",
    "Employee = Century_bank_clean.select('Company','Job_Title','Gender','Marital_Status').distinct()\n",
    "# Add the Customer_ID column\n",
    "Employee = Employee.withColumn('Employee_ID', monotonically_increasing_id())\n",
    "# Reordering columns to make sure the added column comes first\n",
    "Employee = Employee.select('Employee_ID','Company','Job_Title','Gender','Marital_Status')\n",
    "\n",
    "#Employee.show(5)"
   ]
  },
  {
   "cell_type": "code",
   "execution_count": 46,
   "metadata": {},
   "outputs": [
    {
     "name": "stdout",
     "output_type": "stream",
     "text": [
      "+--------------+------------+-----------+-------------------+--------------------+-------------+-------------+--------+-------+---------+--------------------+--------------------+\n",
      "|Transaction_ID| Customer_ID|Employee_ID| Credit_Card_Number|                IBAN|Currency_Code|Random_Number|Category|  Group|Is_Active|        Last_Updated|         Description|\n",
      "+--------------+------------+-----------+-------------------+--------------------+-------------+-------------+--------+-------+---------+--------------------+--------------------+\n",
      "|  171798691842|163208795274|      21298|4119128817900391838|GB57TGOR097660836...|          AUD|       7544.0|       C|      X|       No|2022-04-27 00:48:...|Team continue own...|\n",
      "|   42949672961|146028899026|       9891|     30071160638727|GB67QXVS590768285...|          JEP|       5757.0|       D|unknown|       No|2022-08-04 20:45:...|             unknown|\n",
      "|  137438953473|103079245940|      28228|   4905811524319082|GB03EEKE685121511...|          KRW|       8728.0|       C|      Y|      Yes|2020-08-23 01:19:...|Theory Mrs stand ...|\n",
      "|   34359738370|111669158025|       7681|                  0|GB60QXIZ572973582...|          TMT|       3933.0|       C|      Z|      Yes|2021-08-18 02:50:...|Good after resour...|\n",
      "|  128849018882|180388655159|      26255|                  0|GB74YJOH739139220...|          KYD|          0.0|       C|      X|      Yes|2021-02-03 13:55:...|Hot theory charac...|\n",
      "+--------------+------------+-----------+-------------------+--------------------+-------------+-------------+--------+-------+---------+--------------------+--------------------+\n",
      "only showing top 5 rows\n",
      "\n"
     ]
    }
   ],
   "source": [
    "# Fact table\n",
    "Fact_table = Century_bank_clean.join(Customer, ['Customer_Name','Customer_Address','Customer_City',\\\n",
    "                                        'Customer_State','Customer_Country','Email','Phone_Number'], 'left')\\\n",
    "                         .join(Transaction, ['Transaction_Date', 'Amount', 'Transaction_Type'],'left')\\\n",
    "                         .join(Employee, ['Company','Job_Title','Gender','Marital_Status'], 'left')\\\n",
    "                         .select('Transaction_ID','Customer_ID','Employee_ID','Credit_Card_Number','IBAN',\\\n",
    "                                 'Currency_Code','Random_Number','Category','Group','Is_Active','Last_Updated','Description',)   \n",
    "\n",
    "\n",
    "Fact_table.show(5)\n"
   ]
  },
  {
   "cell_type": "code",
   "execution_count": 47,
   "metadata": {},
   "outputs": [],
   "source": [
    "# output or save transformed data as csv file\n",
    "#Transaction.repartition(1).write.mode('overwrite').option('header', 'True').csv(r'C:/Users/back2/Desktop/DE-SORTED FILEZ/Century_bank project/transformed/Transaction')\n",
    "#Employee.repartition(1).write.mode('overwrite').option('header', 'True').csv(r'C:\\Users\\back2\\Desktop\\(PYSPARK case_study)/Employee')\n",
    "#Customer.repartition(1).write.mode('overwrite').option('header', 'True').csv(r'C:\\Users\\back2\\Desktop\\(PYSPARK case_study)/Customer')\n",
    "#Fact_table.repartition(1).write.mode('overwrite').option('header', 'True').csv(r'C:\\Users\\back2\\Desktop\\(PYSPARK case_study)/Fact_table')\n",
    "\n",
    "\n",
    "\n",
    "\n",
    "\n"
   ]
  },
  {
   "cell_type": "code",
   "execution_count": 48,
   "metadata": {},
   "outputs": [
    {
     "name": "stdout",
     "output_type": "stream",
     "text": [
      "Database connection established.\n"
     ]
    }
   ],
   "source": [
    "import os\n",
    "import psycopg2\n",
    "from dotenv import load_dotenv\n",
    "\n",
    "# Load environment variables from a .env file\n",
    "load_dotenv()\n",
    "\n",
    "# Function to create and return a DB connection\n",
    "def get_db_connection():\n",
    "        connection = psycopg2.connect(\n",
    "            host=os.getenv(\"DB_HOST\"),\n",
    "            database=os.getenv(\"DB_NAME\"),\n",
    "            user=os.getenv(\"DB_USER\"),\n",
    "            password=os.getenv(\"DB_PASSWORD\")\n",
    "        )\n",
    "        return connection\n",
    "\n",
    "conn = get_db_connection()\n",
    "\n",
    "# Optional: Confirm connection status\n",
    "if conn:\n",
    "    print(\"Database connection established.\")\n",
    "else:\n",
    "    print(\"Failed to establish database connection.\")"
   ]
  },
  {
   "cell_type": "markdown",
   "metadata": {},
   "source": [
    "### Create Database Dimension Tables"
   ]
  },
  {
   "cell_type": "code",
   "execution_count": null,
   "metadata": {},
   "outputs": [],
   "source": [
    "def create_table():\n",
    "    conn = get_db_connection()\n",
    "    cursor = conn.cursor()\n",
    "    create_table_query = '''\n",
    "\n",
    "    -- Create schema if not exists\n",
    "        CREATE SCHEMA IF NOT EXISTS loan_project;\n",
    "\n",
    "        -- Drop existing tables (in reverse dependency order)\n",
    "DROP TABLE IF EXISTS loan_project.Transaction_Table;\n",
    "DROP TABLE IF EXISTS loan_project.Customer_Table;\n",
    "DROP TABLE IF EXISTS loan_project.Employee_Table;\n",
    "DROP TABLE IF EXISTS loan_project.Fact_table_Table;\n",
    "\n",
    "CREATE TABLE loan_project.Transaction_Table (\n",
    "    Transaction_ID BIGINT PRIMARY KEY,\n",
    "    Transaction_Date DATE,\n",
    "    Amount NUMERIC(12, 2),\n",
    "    Transaction_Type VARCHAR(50)\n",
    ");\n",
    "\n",
    "CREATE TABLE loan_project.Customer_Table (\n",
    "    Customer_ID BIGINT PRIMARY KEY,\n",
    "    Customer_Name VARCHAR(100),\n",
    "    Customer_Address TEXT,\n",
    "    Customer_City VARCHAR(100),\n",
    "    Customer_State VARCHAR(100),\n",
    "    Customer_Country VARCHAR(100),\n",
    "    Email VARCHAR(255),\n",
    "    Phone_Number VARCHAR(50)\n",
    ");\n",
    "\n",
    "CREATE TABLE loan_project.Employee_Table (\n",
    "    Employee_ID BIGINT PRIMARY KEY,\n",
    "    Company VARCHAR(150),\n",
    "    Job_Title VARCHAR(150),\n",
    "    Gender VARCHAR(10),\n",
    "    Marital_Status VARCHAR(20)\n",
    ");\n",
    "\n",
    "CREATE TABLE loan_project.Fact_table (\n",
    "    Transaction_ID BIGINT,\n",
    "    Customer_ID BIGINT,\n",
    "    Employee_ID BIGINT,\n",
    "    Credit_Card_Number VARCHAR(50),\n",
    "    IBAN VARCHAR(50),\n",
    "    Currency_Code VARCHAR(50),\n",
    "    Random_Number INTEGER,\n",
    "    Category VARCHAR(100),\n",
    "    \"Group\" VARCHAR(100),\n",
    "    Is_Active BOOLEAN,\n",
    "    Last_Updated TIMESTAMP,\n",
    "    Description TEXT,\n",
    "    PRIMARY KEY (Transaction_ID),\n",
    "    FOREIGN KEY (Transaction_ID) REFERENCES loan_project.Transaction_Table(Transaction_ID),\n",
    "    FOREIGN KEY (Customer_ID) REFERENCES loan_project.Customer_Table(Customer_ID),\n",
    "    FOREIGN KEY (Employee_ID) REFERENCES loan_project.Employee_Table(Employee_ID)\n",
    ");\n",
    "  '''\n",
    "    cursor.execute(create_table_query)\n",
    "    conn.commit()\n",
    "    cursor.close()\n",
    "    conn.close()\n",
    "\n",
    "# Call the function to create the tables\n",
    "create_table()\n"
   ]
  },
  {
   "cell_type": "markdown",
   "metadata": {},
   "source": [
    "### Load Data To Postgres Database"
   ]
  },
  {
   "cell_type": "code",
   "execution_count": 51,
   "metadata": {},
   "outputs": [
    {
     "name": "stdout",
     "output_type": "stream",
     "text": [
      "successfull\n"
     ]
    }
   ],
   "source": [
    "# Define database parameters including the database name\n",
    "from pyspark.sql import SparkSession\n",
    "#Retrieve credentials from environment variables\n",
    "from dotenv import load_dotenv\n",
    "import os\n",
    "\n",
    "# Load from .env file\n",
    "load_dotenv()\n",
    "\n",
    "url = \"jdbc:postgresql://localhost:5432/CENTURY_BANK_DB\"\n",
    "user = os.getenv(\"DB_USER\")\n",
    "password = os.getenv(\"DB_PASSWORD\")\n",
    "\n",
    "properties = {\n",
    "    \"user\": user,\n",
    "    \"password\": password,\n",
    "    \"driver\": \"org.postgresql.Driver\"\n",
    "}\n",
    "spark = SparkSession.builder \\\n",
    "    .appName(\"centuryBank_Project\") \\\n",
    "    .config(\"spark.jars\", r\"postgresql-42.7.4.jar\") \\\n",
    "    .getOrCreate()\n",
    "\n",
    "# create table and load the data\n",
    "Transaction.write.jdbc(url=url, table=\"loan_project.Transaction_Table\", mode=\"append\", properties=properties)\n",
    "Customer.write.jdbc(url=url, table=\"loan_project.Customer_Table\", mode=\"append\", properties=properties)\n",
    "Employee.write.jdbc(url=url, table=\"loan_project.Employee_Table\", mode=\"append\", properties=properties)\n",
    "Fact_table.write.jdbc(url=url, table=\"loan_project.Fact_table\", mode=\"append\", properties=properties)\n",
    "print('successfull')"
   ]
  }
 ],
 "metadata": {
  "kernelspec": {
   "display_name": "Python 3",
   "language": "python",
   "name": "python3"
  },
  "language_info": {
   "codemirror_mode": {
    "name": "ipython",
    "version": 3
   },
   "file_extension": ".py",
   "mimetype": "text/x-python",
   "name": "python",
   "nbconvert_exporter": "python",
   "pygments_lexer": "ipython3",
   "version": "3.9.2"
  }
 },
 "nbformat": 4,
 "nbformat_minor": 2
}
