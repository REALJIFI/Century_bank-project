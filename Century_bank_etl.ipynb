{
 "cells": [
  {
   "cell_type": "markdown",
   "metadata": {},
   "source": [
    "### Import necessary dependencies"
   ]
  },
  {
   "cell_type": "code",
   "execution_count": null,
   "metadata": {},
   "outputs": [],
   "source": [
    "#!pip install setuptools\n",
    "\n",
    "#!pip install --upgrade pandas\n"
   ]
  },
  {
   "cell_type": "code",
   "execution_count": 7,
   "metadata": {},
   "outputs": [],
   "source": [
    "from packaging.version import Version as LooseVersion\n",
    "from pyspark.sql import SparkSession\n",
    "from pyspark.sql.functions import monotonically_increasing_id \n",
    "import pandas as pd\n",
    "from datetime import datetime, timedelta\n",
    "from sqlalchemy import create_engine\n",
    "import psycopg2\n",
    "import os\n",
    "from dotenv import load_dotenv"
   ]
  },
  {
   "cell_type": "code",
   "execution_count": 8,
   "metadata": {},
   "outputs": [],
   "source": [
    "## set jave home to avoid java running with the previous version\n",
    "os.environ['JAVA_HOME'] = r'C:\\JAVA8'"
   ]
  },
  {
   "cell_type": "code",
   "execution_count": 9,
   "metadata": {},
   "outputs": [],
   "source": [
    "#ENABLING FIREWALLS BLOCKING\n",
    "import os\n",
    "os.environ[\"PYSPARK_ALLOW_INSECURE_GATEWAY\"] = \"1\""
   ]
  },
  {
   "cell_type": "code",
   "execution_count": 12,
   "metadata": {},
   "outputs": [
    {
     "data": {
      "text/html": [
       "\n",
       "            <div>\n",
       "                <p><b>SparkSession - in-memory</b></p>\n",
       "                \n",
       "        <div>\n",
       "            <p><b>SparkContext</b></p>\n",
       "\n",
       "            <p><a href=\"http://host.docker.internal:4040\">Spark UI</a></p>\n",
       "\n",
       "            <dl>\n",
       "              <dt>Version</dt>\n",
       "                <dd><code>v3.3.0</code></dd>\n",
       "              <dt>Master</dt>\n",
       "                <dd><code>local[*]</code></dd>\n",
       "              <dt>AppName</dt>\n",
       "                <dd><code>CENTURYBANKETL</code></dd>\n",
       "            </dl>\n",
       "        </div>\n",
       "        \n",
       "            </div>\n",
       "        "
      ],
      "text/plain": [
       "<pyspark.sql.session.SparkSession at 0x1a888aa3500>"
      ]
     },
     "execution_count": 12,
     "metadata": {},
     "output_type": "execute_result"
    }
   ],
   "source": [
    "# initialize my spark seesion with allowed security\n",
    "from pyspark.sql import SparkSession\n",
    "\n",
    "spark = SparkSession.builder \\\n",
    "    .appName(\"GWIHR_PROJECT\") \\\n",
    "    .config(\"spark.jars\", r\"C:\\Users\\back2\\Desktop\\DE-SORTED FILEZ\\Century_bank project\\postgresql-42.7.5.jar\") \\\n",
    "    .getOrCreate()\n",
    "spark  "
   ]
  },
  {
   "cell_type": "markdown",
   "metadata": {},
   "source": [
    "### Data Extraction"
   ]
  },
  {
   "cell_type": "code",
   "execution_count": null,
   "metadata": {},
   "outputs": [],
   "source": [
    "Century_bank_df = spark.read.csv(r'Raw_data\\Century_bank_transactions.csv',header = True)\n",
    "Century_bank_df.show(10)"
   ]
  },
  {
   "cell_type": "code",
   "execution_count": null,
   "metadata": {},
   "outputs": [],
   "source": [
    "## to read your file and also show the correct datatype use this code,\n",
    "Century_bank_df = spark.read.csv(r'Raw_data\\Century_bank_transactions.csv',header = True, inferSchema=True)\n",
    "\n",
    "Century_bank_df.printSchema()"
   ]
  },
  {
   "cell_type": "markdown",
   "metadata": {},
   "source": [
    "### Data Cleaning and Transformation"
   ]
  },
  {
   "cell_type": "code",
   "execution_count": null,
   "metadata": {},
   "outputs": [],
   "source": [
    "# check your columns\n",
    "Century_bank_df.columns"
   ]
  },
  {
   "cell_type": "code",
   "execution_count": null,
   "metadata": {},
   "outputs": [
    {
     "data": {
      "text/plain": [
       "1000000"
      ]
     },
     "execution_count": 98,
     "metadata": {},
     "output_type": "execute_result"
    }
   ],
   "source": [
    "# number of rows\n",
    "num_rows = Century_bank_df.count()\n",
    "\n",
    "num_rows"
   ]
  },
  {
   "cell_type": "code",
   "execution_count": null,
   "metadata": {},
   "outputs": [
    {
     "data": {
      "text/plain": [
       "23"
      ]
     },
     "execution_count": 99,
     "metadata": {},
     "output_type": "execute_result"
    }
   ],
   "source": [
    "# number of columns\n",
    "num_columns = len(Century_bank_df.columns)\n",
    "num_columns"
   ]
  },
  {
   "cell_type": "code",
   "execution_count": null,
   "metadata": {},
   "outputs": [
    {
     "name": "stdout",
     "output_type": "stream",
     "text": [
      "Transaction_Date nulls 0\n",
      "Amount nulls 0\n",
      "Transaction_Type nulls 0\n",
      "Customer_Name nulls 100425\n",
      "Customer_Address nulls 100087\n",
      "Customer_City nulls 100034\n",
      "Customer_State nulls 100009\n",
      "Customer_Country nulls 100672\n",
      "Company nulls 100295\n",
      "Job_Title nulls 99924\n",
      "Email nulls 100043\n",
      "Phone_Number nulls 100524\n",
      "Credit_Card_Number nulls 100085\n",
      "IBAN nulls 100300\n",
      "Currency_Code nulls 99342\n",
      "Random_Number nulls 99913\n",
      "Category nulls 100332\n",
      "Group nulls 100209\n",
      "Is_Active nulls 100259\n",
      "Last_Updated nulls 100321\n",
      "Description nulls 100403\n",
      "Gender nulls 99767\n",
      "Marital_Status nulls 99904\n"
     ]
    }
   ],
   "source": [
    "# checking for null values\n",
    "for columns in Century_bank_df.columns:\n",
    "        print(columns, 'nulls', Century_bank_df.filter(Century_bank_df[columns].isNull()).count())"
   ]
  },
  {
   "cell_type": "code",
   "execution_count": null,
   "metadata": {},
   "outputs": [],
   "source": [
    "# How to fill up missing or null values\n",
    "Century_bank_df_clean = Century_bank_df.fillna({\n",
    "    'Customer_Name': 'unknown',\n",
    "    'Customer_Address': 'unknown',\n",
    "    'Customer_City': 'unknown',\n",
    "    'Customer_State':'unknown',\n",
    "    'Customer_Country': 'unknown',\n",
    "    'Company': 'unknown',\n",
    "    'Job_Title': 'unknown',\n",
    "    'Email': 'unknown',\n",
    "    'Phone_Number': 'unknown',\n",
    "    'Credit_Card_Number': 0,\n",
    "    'IBAN': 'unknown',\n",
    "    'Currency_Code': 'unknown',\n",
    "    'Random_Number': 0.0,\n",
    "    'Category': 'unknown',\n",
    "    'Group': 'unknown',\n",
    "    'Is_Active': 'unknown',\n",
    "    'Description': 'unknown',\n",
    "    'Gender': 'unknown',\n",
    "    'Marital_Status': 'unknown'\n",
    "})"
   ]
  },
  {
   "cell_type": "code",
   "execution_count": null,
   "metadata": {},
   "outputs": [],
   "source": [
    "# Drop rows where last updated is null\n",
    "Century_bank_df_clean = Century_bank_df_clean.na.drop(subset=['Last_Updated'])"
   ]
  },
  {
   "cell_type": "code",
   "execution_count": null,
   "metadata": {},
   "outputs": [],
   "source": [
    "# confirm changes made for drop command.\n",
    "num_rows = Century_bank_df_clean.count()\n",
    "\n",
    "num_rows"
   ]
  },
  {
   "cell_type": "code",
   "execution_count": null,
   "metadata": {},
   "outputs": [],
   "source": [
    "# confirm changes made for null values\n",
    "for columns in Century_bank_df_clean.columns:\n",
    "        print(columns, 'nulls', Century_bank_df_clean.filter(Century_bank_df_clean[columns].isNull()).count())"
   ]
  },
  {
   "cell_type": "code",
   "execution_count": null,
   "metadata": {},
   "outputs": [
    {
     "name": "stdout",
     "output_type": "stream",
     "text": [
      "+-------+------------------+----------------+-------------+--------------------+-------------+--------------+----------------+------------+------------------+-------------------+--------------------+--------------------+--------------------+-------------+-----------------+--------+-------+---------+--------------------+-------+--------------+\n",
      "|summary|            Amount|Transaction_Type|Customer_Name|    Customer_Address|Customer_City|Customer_State|Customer_Country|     Company|         Job_Title|              Email|        Phone_Number|  Credit_Card_Number|                IBAN|Currency_Code|    Random_Number|Category|  Group|Is_Active|         Description| Gender|Marital_Status|\n",
      "+-------+------------------+----------------+-------------+--------------------+-------------+--------------+----------------+------------+------------------+-------------------+--------------------+--------------------+--------------------+-------------+-----------------+--------+-------+---------+--------------------+-------+--------------+\n",
      "|  count|            899679|          899679|       899679|              899679|       899679|        899679|          899679|      899679|            899679|             899679|              899679|              899679|              899679|       899679|           899679|  899679| 899679|   899679|              899679| 899679|        899679|\n",
      "|   mean|505.10367708927123|            NULL|         NULL|                NULL|         NULL|          NULL|            NULL|        NULL|              NULL|               NULL| 6.002851385999521E9|3.409662226750533...|                NULL|         NULL|4952.920380491264|    NULL|   NULL|     NULL|                NULL|   NULL|          NULL|\n",
      "| stddev| 285.7945343300485|            NULL|         NULL|                NULL|         NULL|          NULL|            NULL|        NULL|              NULL|               NULL|2.3068371038619423E9|1.189655005733000...|                NULL|         NULL|2966.543401151591|    NULL|   NULL|     NULL|                NULL|   NULL|          NULL|\n",
      "|    min|              10.0|         Deposit| Aaron Abbott|000 Aaron Landing...|    Aaronberg|       Alabama|     Afghanistan|Abbott Group|Academic librarian|aabbott@example.com|       (200)201-4254|                   0|GB02AAAU191993009...|          AED|              0.0|       A|      X|       No|A American and to...| Female|      Divorced|\n",
      "|    max|            1000.0|      Withdrawal|      unknown|             unknown|      unknown|       unknown|         unknown|     unknown|           unknown|zzuniga@example.org|             unknown| 4999984361512569455|             unknown|      unknown|           9999.0| unknown|unknown|  unknown|             unknown|unknown|       unknown|\n",
      "+-------+------------------+----------------+-------------+--------------------+-------------+--------------+----------------+------------+------------------+-------------------+--------------------+--------------------+--------------------+-------------+-----------------+--------+-------+---------+--------------------+-------+--------------+\n",
      "\n"
     ]
    }
   ],
   "source": [
    "# To have an overview of summary statistics of the data\n",
    "Century_bank_df_clean.describe().show()"
   ]
  },
  {
   "cell_type": "code",
   "execution_count": null,
   "metadata": {},
   "outputs": [],
   "source": [
    "# create a data model using the appropriate tool ( lucid or draw io)\n"
   ]
  },
  {
   "cell_type": "code",
   "execution_count": null,
   "metadata": {},
   "outputs": [],
   "source": [
    "Century_bank_df_clean.columns"
   ]
  },
  {
   "cell_type": "markdown",
   "metadata": {},
   "source": [
    "### Table creation"
   ]
  },
  {
   "cell_type": "code",
   "execution_count": null,
   "metadata": {},
   "outputs": [],
   "source": [
    "# Transactaction table\n",
    "Transaction = Century_bank_df_clean.select('Transaction_Date', 'Amount', 'Transaction_Type')\n",
    "# Add the transaction_ID column\n",
    "Transaction = Transaction.withColumn('Transaction_ID', monotonically_increasing_id())\n",
    "# Reordering columns to make sure the added column comes first\n",
    "Transaction = Transaction.select('Transaction_ID','Transaction_Date', 'Amount', 'Transaction_Type')\n",
    "\n",
    "#Transaction.show()"
   ]
  },
  {
   "cell_type": "code",
   "execution_count": null,
   "metadata": {},
   "outputs": [],
   "source": [
    "# Customer table\n",
    "# to reduce reductancy or repeatation where one customer made multiple purchase use (.distinct)\n",
    "Customer = Century_bank_df_clean.select('Customer_Name','Customer_Address','Customer_City',\n",
    "                                        'Customer_State','Customer_Country','Email','Phone_Number').distinct()\n",
    "# Add the Customer_ID column\n",
    "Customer = Customer.withColumn('Customer_ID', monotonically_increasing_id())\n",
    "# Reordering columns to make sure the added column comes first\n",
    "Customer = Customer.select('Customer_ID','Customer_Name','Customer_Address','Customer_City',\n",
    "                                        'Customer_State','Customer_Country','Email','Phone_Number')\n",
    "\n",
    "#Customer.show()"
   ]
  },
  {
   "cell_type": "code",
   "execution_count": null,
   "metadata": {},
   "outputs": [],
   "source": [
    "# Employee table\n",
    "Employee = Century_bank_df_clean.select('Company','Job_Title','Gender','Marital_Status').distinct()\n",
    "# Add the Customer_ID column\n",
    "Employee = Employee.withColumn('Employee_ID', monotonically_increasing_id())\n",
    "# Reordering columns to make sure the added column comes first\n",
    "Employee = Employee.select('Employee_ID','Company','Job_Title','Gender','Marital_Status')\n",
    "\n",
    "Employee.show()"
   ]
  },
  {
   "cell_type": "code",
   "execution_count": null,
   "metadata": {},
   "outputs": [],
   "source": [
    "# Fact table\n",
    "Fact_table = Century_bank_df.join(Customer, ['Customer_Name','Customer_Address','Customer_City',\\\n",
    "                                        'Customer_State','Customer_Country','Email','Phone_Number'], 'left')\\\n",
    "                         .join(Transaction, ['Transaction_Date', 'Amount', 'Transaction_Type'],'left')\\\n",
    "                         .join(Employee, ['Company','Job_Title','Gender','Marital_Status'], 'left')\\\n",
    "                         .select('Transaction_ID','Customer_ID','Employee_ID','Credit_Card_Number','IBAN',\\\n",
    "                                 'Currency_Code','Random_Number','Category','Group','Is_Active','Last_Updated','Description',)   \n",
    "\n",
    "\n",
    "Fact_table.show()\n"
   ]
  },
  {
   "cell_type": "code",
   "execution_count": null,
   "metadata": {},
   "outputs": [],
   "source": [
    "# output or save transformed data as csv file\n",
    "#Transaction.repartition(1).write.mode('overwrite').option('header', 'True').csv(r'C:\\Users\\back2\\Desktop\\(PYSPARK case_study)/Transaction')\n",
    "#Employee.repartition(1).write.mode('overwrite').option('header', 'True').csv(r'C:\\Users\\back2\\Desktop\\(PYSPARK case_study)/Employee')\n",
    "#Customer.repartition(1).write.mode('overwrite').option('header', 'True').csv(r'C:\\Users\\back2\\Desktop\\(PYSPARK case_study)/Customer')\n",
    "#Fact_table.repartition(1).write.mode('overwrite').option('header', 'True').csv(r'C:\\Users\\back2\\Desktop\\(PYSPARK case_study)/Fact_table')\n"
   ]
  },
  {
   "cell_type": "code",
   "execution_count": null,
   "metadata": {},
   "outputs": [],
   "source": [
    "# convert spark_df to pandas_df\n",
    "Transaction_pd_df = Transaction.toPandas()\n",
    "Customer_pd_df = Customer.toPandas()\n",
    "Employee_pd_df = Employee.toPandas()\n",
    "Fact_table_pd_df = Fact_table.toPandas()\n"
   ]
  },
  {
   "cell_type": "code",
   "execution_count": null,
   "metadata": {},
   "outputs": [],
   "source": [
    "# Define database parameters including the database name\n",
    "db_params ={\n",
    "    'username': 'postgres',\n",
    "    'password': '0852',\n",
    "    'host': 'localhost',\n",
    "    'port': '5432',\n",
    "    'database': 'nuga_bank'\n",
    "}\n",
    "db_url = f\"postgresql://{db_params['username']}:{db_params['password']}@{db_params['host']}:{db_params['port']}/{db_params['database']}\"\n",
    "# create the database engine with the db url\n",
    "engine = create_engine(db_url)\n",
    "# connect to PostgreSQL server\n",
    "with engine.connect() as connection:\n",
    "\n",
    "# create table and load the data\n",
    "    Transaction_pd_df.to_sql('Transaction', connection, index=False, if_exists='replace')\n",
    "    Customer_pd_df.to_sql('Customer', connection, index=False, if_exists='replace')\n",
    "    Employee_pd_df.to_sql('Employee', connection, index=False, if_exists='replace')\n",
    "    Fact_table_pd_df.to_sql('Fact_table', connection, index=False, if_exists='replace')\n",
    "print('successfull')"
   ]
  }
 ],
 "metadata": {
  "kernelspec": {
   "display_name": "Python 3",
   "language": "python",
   "name": "python3"
  },
  "language_info": {
   "codemirror_mode": {
    "name": "ipython",
    "version": 3
   },
   "file_extension": ".py",
   "mimetype": "text/x-python",
   "name": "python",
   "nbconvert_exporter": "python",
   "pygments_lexer": "ipython3",
   "version": "3.12.8"
  }
 },
 "nbformat": 4,
 "nbformat_minor": 2
}
