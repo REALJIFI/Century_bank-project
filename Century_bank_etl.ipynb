{
 "cells": [
  {
   "cell_type": "markdown",
   "metadata": {},
   "source": [
    "### Import necessary dependencies"
   ]
  },
  {
   "cell_type": "code",
   "execution_count": null,
   "metadata": {},
   "outputs": [],
   "source": [
    "#!pip install setuptools\n",
    "\n",
    "#!pip install --upgrade pandas\n"
   ]
  },
  {
   "cell_type": "code",
   "execution_count": 31,
   "metadata": {},
   "outputs": [],
   "source": [
    "from packaging.version import Version as LooseVersion\n",
    "from pyspark.sql import SparkSession\n",
    "from pyspark.sql.functions import monotonically_increasing_id \n",
    "import pandas as pd\n",
    "from datetime import datetime, timedelta\n",
    "from sqlalchemy import create_engine\n",
    "import psycopg2\n",
    "import os\n",
    "from dotenv import load_dotenv"
   ]
  },
  {
   "cell_type": "code",
   "execution_count": 32,
   "metadata": {},
   "outputs": [],
   "source": [
    "## set jave home to avoid java running with the previous version\n",
    "os.environ['JAVA_HOME'] = r'C:\\JAVA8'"
   ]
  },
  {
   "cell_type": "code",
   "execution_count": 33,
   "metadata": {},
   "outputs": [],
   "source": [
    "#ENABLING FIREWALLS BLOCKING\n",
    "import os\n",
    "os.environ[\"PYSPARK_ALLOW_INSECURE_GATEWAY\"] = \"1\""
   ]
  },
  {
   "cell_type": "code",
   "execution_count": 34,
   "metadata": {},
   "outputs": [
    {
     "data": {
      "text/html": [
       "\n",
       "            <div>\n",
       "                <p><b>SparkSession - in-memory</b></p>\n",
       "                \n",
       "        <div>\n",
       "            <p><b>SparkContext</b></p>\n",
       "\n",
       "            <p><a href=\"http://host.docker.internal:4040\">Spark UI</a></p>\n",
       "\n",
       "            <dl>\n",
       "              <dt>Version</dt>\n",
       "                <dd><code>v3.3.0</code></dd>\n",
       "              <dt>Master</dt>\n",
       "                <dd><code>local[*]</code></dd>\n",
       "              <dt>AppName</dt>\n",
       "                <dd><code>CENTURYBANKETL</code></dd>\n",
       "            </dl>\n",
       "        </div>\n",
       "        \n",
       "            </div>\n",
       "        "
      ],
      "text/plain": [
       "<pyspark.sql.session.SparkSession at 0x1a888aa3500>"
      ]
     },
     "execution_count": 34,
     "metadata": {},
     "output_type": "execute_result"
    }
   ],
   "source": [
    "# initialize my spark seesion with allowed security\n",
    "from pyspark.sql import SparkSession\n",
    "\n",
    "spark = SparkSession.builder \\\n",
    "    .appName(\"GWIHR_PROJECT\") \\\n",
    "    .config(\"spark.jars\", r\"C:\\Users\\back2\\Desktop\\DE-SORTED FILEZ\\Century_bank project\\postgresql-42.7.5.jar\") \\\n",
    "    .getOrCreate()\n",
    "spark  "
   ]
  },
  {
   "cell_type": "markdown",
   "metadata": {},
   "source": [
    "### Data Extraction"
   ]
  },
  {
   "cell_type": "code",
   "execution_count": 35,
   "metadata": {},
   "outputs": [
    {
     "name": "stdout",
     "output_type": "stream",
     "text": [
      "+--------------------+------+----------------+--------------+--------------------+--------------------+--------------+--------------------+--------------------+--------------------+--------------------+-------------------+-------------------+--------------------+-------------+-------------+--------+-----+---------+--------------------+--------------------+------+--------------+\n",
      "|    Transaction_Date|Amount|Transaction_Type| Customer_Name|    Customer_Address|       Customer_City|Customer_State|    Customer_Country|             Company|           Job_Title|               Email|       Phone_Number| Credit_Card_Number|                IBAN|Currency_Code|Random_Number|Category|Group|Is_Active|        Last_Updated|         Description|Gender|Marital_Status|\n",
      "+--------------------+------+----------------+--------------+--------------------+--------------------+--------------+--------------------+--------------------+--------------------+--------------------+-------------------+-------------------+--------------------+-------------+-------------+--------+-----+---------+--------------------+--------------------+------+--------------+\n",
      "|2024-03-23 15:38:...| 34.76|      Withdrawal|    James Neal|54912 Holmes Lodg...|   West Keithborough|       Florida|                Togo|Benson, Johnson a...|                null|                null|  493.720.6609x7545|   3592901394693441|GB98RBPP090285271...|          MAD|       3167.0|       C|    Z|       No|2020-06-20 03:04:...|Yeah food anythin...| Other|      Divorced|\n",
      "|2024-04-22 19:15:...|163.92|      Withdrawal|   Thomas Long| 1133 Collin Passage|          Joshuabury|   Connecticut|Lao People's Demo...|                null|   Food technologist|michellelynch@exa...|      (497)554-3317|               null|GB03KFZR339662263...|          VEF|       2122.0|       B|    Z|     null|2020-12-27 13:23:...|Teach edge make n...|Female|       Married|\n",
      "|2024-04-12 19:46:...|386.32|      Withdrawal|Ashley Shelton|5297 Johnson Port...|         North Maria|    New Jersey|              Bhutan|       Jones-Mueller|Database administ...| ljordan@example.org|      (534)769-3072|       675983949974|GB59QYRN446730519...|          COP|       7796.0|       C|    Z|       No|2020-01-24 01:23:...|Again line face c...| Other|          null|\n",
      "|2024-04-17 15:29:...|407.15|         Deposit| James Rosario|56955 Moore Glens...|  North Michellefurt|    New Mexico|             Iceland|       Vargas-Harris|Horticultural the...|parkerjames@examp...|+1-447-900-1320x257|      4761202519057|GB74FTDO268299438...|          BWP|       6284.0|       C|    Z|      Yes|2023-09-27 03:01:...|     Bag my a drive.|  null|          null|\n",
      "|2024-02-10 01:51:...|161.31|         Deposit|Miguel Leonard|262 Beck Expressw...|                null| West Virginia|             Eritrea|Richardson, Gonza...|   Minerals surveyor| zweaver@example.net|               null|    213156729655186|GB94EWRN587847592...|          SOS|       9179.0|       C|    Y|       No|2022-01-22 19:08:...|Husband find ok w...|Female|       Married|\n",
      "|2024-02-10 22:56:...|764.34|        Transfer|   Jesse Clark|      194 Derek Burg|        Wallacemouth|    New Mexico|             Estonia|           Smith Ltd| Seismic interpreter|benjaminwalker@ex...|   229-511-2530x870|       501851472974|                null|          ZWD|         null|       B|    Z|      Yes|2023-02-18 19:26:...|                null| Other|       Married|\n",
      "|2024-04-07 00:07:...|734.59|         Deposit|    Mark Estes|4077 James Lane A...|      Williamsonport|      Michigan|Antarctica (the t...|         Wade-Kelley|  Surveyor, minerals|karenrobinson@exa...|      (840)334-1610|4543690154172468535|GB55FCPC779828821...|          CAD|       7304.0|       A|    X|      Yes|2020-10-27 16:48:...|Standard prepare ...|  Male|          null|\n",
      "|2024-03-08 01:51:...|592.43|         Deposit|    Kelly Ruiz|                null|          New Lauren|          null|                null|                null|Medical laborator...|  iestes@example.org| 495.430.4276x42618|      4500718397537|GB78FDAJ595830659...|          RON|       2445.0|       B|    X|       No|2022-11-19 08:59:...|                null|Female|        Single|\n",
      "|2024-04-02 06:21:...|472.35|        Transfer|          null|1467 Heather Vill...|         Conniemouth|          null|               Macao|Ellis, Smith and ...|Television/film/v...|rebeccarodriguez@...|       511.666.5891|      4884893247570|GB91HQDO449272193...|          LTL|       2721.0|    null|    Z|       No|                null|Leg out walk rece...| Other|          null|\n",
      "|2024-02-01 12:34:...| 927.1|         Deposit|     Brad Yang|    579 Nolan Harbor|South Christopher...|  South Dakota|                null|         Lindsey LLC|Programmer, appli...|maryduran@example...|  (241)738-0972x658|    180039947294310|GB48WNWB013807482...|          HRK|       3061.0|       B|    X|       No|2020-08-31 20:40:...|Notice paper son ...|Female|        Single|\n",
      "+--------------------+------+----------------+--------------+--------------------+--------------------+--------------+--------------------+--------------------+--------------------+--------------------+-------------------+-------------------+--------------------+-------------+-------------+--------+-----+---------+--------------------+--------------------+------+--------------+\n",
      "only showing top 10 rows\n",
      "\n"
     ]
    }
   ],
   "source": [
    "Century_bank_df = spark.read.csv(r'Raw_data\\Century_bank_transactions.csv',header = True)\n",
    "Century_bank_df.show(10)"
   ]
  },
  {
   "cell_type": "code",
   "execution_count": 36,
   "metadata": {},
   "outputs": [
    {
     "name": "stdout",
     "output_type": "stream",
     "text": [
      "root\n",
      " |-- Transaction_Date: timestamp (nullable = true)\n",
      " |-- Amount: double (nullable = true)\n",
      " |-- Transaction_Type: string (nullable = true)\n",
      " |-- Customer_Name: string (nullable = true)\n",
      " |-- Customer_Address: string (nullable = true)\n",
      " |-- Customer_City: string (nullable = true)\n",
      " |-- Customer_State: string (nullable = true)\n",
      " |-- Customer_Country: string (nullable = true)\n",
      " |-- Company: string (nullable = true)\n",
      " |-- Job_Title: string (nullable = true)\n",
      " |-- Email: string (nullable = true)\n",
      " |-- Phone_Number: string (nullable = true)\n",
      " |-- Credit_Card_Number: long (nullable = true)\n",
      " |-- IBAN: string (nullable = true)\n",
      " |-- Currency_Code: string (nullable = true)\n",
      " |-- Random_Number: double (nullable = true)\n",
      " |-- Category: string (nullable = true)\n",
      " |-- Group: string (nullable = true)\n",
      " |-- Is_Active: string (nullable = true)\n",
      " |-- Last_Updated: timestamp (nullable = true)\n",
      " |-- Description: string (nullable = true)\n",
      " |-- Gender: string (nullable = true)\n",
      " |-- Marital_Status: string (nullable = true)\n",
      "\n"
     ]
    }
   ],
   "source": [
    "## to read your file and also show the correct datatype use this code,\n",
    "Century_bank_df = spark.read.csv(r'Raw_data\\Century_bank_transactions.csv',header = True, inferSchema=True)\n",
    "\n",
    "Century_bank_df.printSchema()"
   ]
  },
  {
   "cell_type": "markdown",
   "metadata": {},
   "source": [
    "### Data Cleaning and Transformation"
   ]
  },
  {
   "cell_type": "code",
   "execution_count": 37,
   "metadata": {},
   "outputs": [
    {
     "data": {
      "text/plain": [
       "['Transaction_Date',\n",
       " 'Amount',\n",
       " 'Transaction_Type',\n",
       " 'Customer_Name',\n",
       " 'Customer_Address',\n",
       " 'Customer_City',\n",
       " 'Customer_State',\n",
       " 'Customer_Country',\n",
       " 'Company',\n",
       " 'Job_Title',\n",
       " 'Email',\n",
       " 'Phone_Number',\n",
       " 'Credit_Card_Number',\n",
       " 'IBAN',\n",
       " 'Currency_Code',\n",
       " 'Random_Number',\n",
       " 'Category',\n",
       " 'Group',\n",
       " 'Is_Active',\n",
       " 'Last_Updated',\n",
       " 'Description',\n",
       " 'Gender',\n",
       " 'Marital_Status']"
      ]
     },
     "execution_count": 37,
     "metadata": {},
     "output_type": "execute_result"
    }
   ],
   "source": [
    "# check your columns\n",
    "Century_bank_df.columns"
   ]
  },
  {
   "cell_type": "code",
   "execution_count": 38,
   "metadata": {},
   "outputs": [
    {
     "data": {
      "text/plain": [
       "1000000"
      ]
     },
     "execution_count": 38,
     "metadata": {},
     "output_type": "execute_result"
    }
   ],
   "source": [
    "# check number of rows\n",
    "num_rows = Century_bank_df.count()\n",
    "\n",
    "num_rows"
   ]
  },
  {
   "cell_type": "code",
   "execution_count": 39,
   "metadata": {},
   "outputs": [
    {
     "data": {
      "text/plain": [
       "23"
      ]
     },
     "execution_count": 39,
     "metadata": {},
     "output_type": "execute_result"
    }
   ],
   "source": [
    "# check number of columns\n",
    "num_columns = len(Century_bank_df.columns)\n",
    "num_columns"
   ]
  },
  {
   "cell_type": "code",
   "execution_count": 40,
   "metadata": {},
   "outputs": [
    {
     "name": "stdout",
     "output_type": "stream",
     "text": [
      "Transaction_Date nulls 0\n",
      "Amount nulls 0\n",
      "Transaction_Type nulls 0\n",
      "Customer_Name nulls 100425\n",
      "Customer_Address nulls 100087\n",
      "Customer_City nulls 100034\n",
      "Customer_State nulls 100009\n",
      "Customer_Country nulls 100672\n",
      "Company nulls 100295\n",
      "Job_Title nulls 99924\n",
      "Email nulls 100043\n",
      "Phone_Number nulls 100524\n",
      "Credit_Card_Number nulls 100085\n",
      "IBAN nulls 100300\n",
      "Currency_Code nulls 99342\n",
      "Random_Number nulls 99913\n",
      "Category nulls 100332\n",
      "Group nulls 100209\n",
      "Is_Active nulls 100259\n",
      "Last_Updated nulls 100321\n",
      "Description nulls 100403\n",
      "Gender nulls 99767\n",
      "Marital_Status nulls 99904\n"
     ]
    }
   ],
   "source": [
    "# checking for null values\n",
    "for columns in Century_bank_df.columns:\n",
    "        print(columns, 'nulls', Century_bank_df.filter(Century_bank_df[columns].isNull()).count())"
   ]
  },
  {
   "cell_type": "code",
   "execution_count": 42,
   "metadata": {},
   "outputs": [],
   "source": [
    "# copy dataframe to avoid altering the original dataset\n",
    "Century_bank_clean = Century_bank_df"
   ]
  },
  {
   "cell_type": "code",
   "execution_count": 43,
   "metadata": {},
   "outputs": [],
   "source": [
    "# fill up missing or null values with necessary default values\n",
    "Century_bank_clean = Century_bank_df.fillna({\n",
    "    'Customer_Name': 'unknown',\n",
    "    'Customer_Address': 'unknown',\n",
    "    'Customer_City': 'unknown',\n",
    "    'Customer_State':'unknown',\n",
    "    'Customer_Country': 'unknown',\n",
    "    'Company': 'unknown',\n",
    "    'Job_Title': 'unknown',\n",
    "    'Email': 'unknown',\n",
    "    'Phone_Number': 'unknown',\n",
    "    'Credit_Card_Number': 0,\n",
    "    'IBAN': 'unknown',\n",
    "    'Currency_Code': 'unknown',\n",
    "    'Random_Number': 0.0,\n",
    "    'Category': 'unknown',\n",
    "    'Group': 'unknown',\n",
    "    'Is_Active': 'unknown',\n",
    "    'Description': 'unknown',\n",
    "    'Gender': 'unknown',\n",
    "    'Marital_Status': 'unknown'\n",
    "})"
   ]
  },
  {
   "cell_type": "code",
   "execution_count": 44,
   "metadata": {},
   "outputs": [],
   "source": [
    "# Drop rows where last updated is null\n",
    "Century_bank_clean = Century_bank_clean.na.drop(subset=['Last_Updated'])\n",
    "\n",
    "## Why is this important?\n",
    "# --- For Data Quality:\n",
    "#--- Last_Updated is likely a timestamp or date column showing when a record was last modified or updated.\n",
    "\n",
    "#--- If that info is missing, the record might be incomplete, outdated, or unreliable, and could distort your analysis.\n",
    "\n",
    "\n"
   ]
  },
  {
   "cell_type": "code",
   "execution_count": 45,
   "metadata": {},
   "outputs": [
    {
     "data": {
      "text/plain": [
       "899679"
      ]
     },
     "execution_count": 45,
     "metadata": {},
     "output_type": "execute_result"
    }
   ],
   "source": [
    "# confirm changes made for drop command.\n",
    "num_rows = Century_bank_clean.count()\n",
    "\n",
    "num_rows"
   ]
  },
  {
   "cell_type": "code",
   "execution_count": null,
   "metadata": {},
   "outputs": [],
   "source": [
    "# confirm changes made for null values\n",
    "for columns in Century_bank_clean.columns:\n",
    "        print(columns, 'nulls', Century_bank_clean.filter(Century_bank_clean[columns].isNull()).count())"
   ]
  },
  {
   "cell_type": "code",
   "execution_count": 49,
   "metadata": {},
   "outputs": [
    {
     "name": "stdout",
     "output_type": "stream",
     "text": [
      "+--------------------+------+----------------+--------------+--------------------+--------------------+--------------+--------------------+--------------------+--------------------+--------------------+-------------------+-------------------+--------------------+-------------+-------------+--------+-------+---------+--------------------+--------------------+-------+--------------+\n",
      "|    Transaction_Date|Amount|Transaction_Type| Customer_Name|    Customer_Address|       Customer_City|Customer_State|    Customer_Country|             Company|           Job_Title|               Email|       Phone_Number| Credit_Card_Number|                IBAN|Currency_Code|Random_Number|Category|  Group|Is_Active|        Last_Updated|         Description| Gender|Marital_Status|\n",
      "+--------------------+------+----------------+--------------+--------------------+--------------------+--------------+--------------------+--------------------+--------------------+--------------------+-------------------+-------------------+--------------------+-------------+-------------+--------+-------+---------+--------------------+--------------------+-------+--------------+\n",
      "|2024-03-23 15:38:...| 34.76|      Withdrawal|    James Neal|54912 Holmes Lodg...|   West Keithborough|       Florida|                Togo|Benson, Johnson a...|             unknown|             unknown|  493.720.6609x7545|   3592901394693441|GB98RBPP090285271...|          MAD|       3167.0|       C|      Z|       No|2020-06-20 03:04:...|Yeah food anythin...|  Other|      Divorced|\n",
      "|2024-04-22 19:15:...|163.92|      Withdrawal|   Thomas Long| 1133 Collin Passage|          Joshuabury|   Connecticut|Lao People's Demo...|             unknown|   Food technologist|michellelynch@exa...|      (497)554-3317|                  0|GB03KFZR339662263...|          VEF|       2122.0|       B|      Z|  unknown|2020-12-27 13:23:...|Teach edge make n...| Female|       Married|\n",
      "|2024-04-12 19:46:...|386.32|      Withdrawal|Ashley Shelton|5297 Johnson Port...|         North Maria|    New Jersey|              Bhutan|       Jones-Mueller|Database administ...| ljordan@example.org|      (534)769-3072|       675983949974|GB59QYRN446730519...|          COP|       7796.0|       C|      Z|       No|2020-01-24 01:23:...|Again line face c...|  Other|       unknown|\n",
      "|2024-04-17 15:29:...|407.15|         Deposit| James Rosario|56955 Moore Glens...|  North Michellefurt|    New Mexico|             Iceland|       Vargas-Harris|Horticultural the...|parkerjames@examp...|+1-447-900-1320x257|      4761202519057|GB74FTDO268299438...|          BWP|       6284.0|       C|      Z|      Yes|2023-09-27 03:01:...|     Bag my a drive.|unknown|       unknown|\n",
      "|2024-02-10 01:51:...|161.31|         Deposit|Miguel Leonard|262 Beck Expressw...|             unknown| West Virginia|             Eritrea|Richardson, Gonza...|   Minerals surveyor| zweaver@example.net|            unknown|    213156729655186|GB94EWRN587847592...|          SOS|       9179.0|       C|      Y|       No|2022-01-22 19:08:...|Husband find ok w...| Female|       Married|\n",
      "|2024-02-10 22:56:...|764.34|        Transfer|   Jesse Clark|      194 Derek Burg|        Wallacemouth|    New Mexico|             Estonia|           Smith Ltd| Seismic interpreter|benjaminwalker@ex...|   229-511-2530x870|       501851472974|             unknown|          ZWD|          0.0|       B|      Z|      Yes|2023-02-18 19:26:...|             unknown|  Other|       Married|\n",
      "|2024-04-07 00:07:...|734.59|         Deposit|    Mark Estes|4077 James Lane A...|      Williamsonport|      Michigan|Antarctica (the t...|         Wade-Kelley|  Surveyor, minerals|karenrobinson@exa...|      (840)334-1610|4543690154172468535|GB55FCPC779828821...|          CAD|       7304.0|       A|      X|      Yes|2020-10-27 16:48:...|Standard prepare ...|   Male|       unknown|\n",
      "|2024-03-08 01:51:...|592.43|         Deposit|    Kelly Ruiz|             unknown|          New Lauren|       unknown|             unknown|             unknown|Medical laborator...|  iestes@example.org| 495.430.4276x42618|      4500718397537|GB78FDAJ595830659...|          RON|       2445.0|       B|      X|       No|2022-11-19 08:59:...|             unknown| Female|        Single|\n",
      "|2024-02-01 12:34:...| 927.1|         Deposit|     Brad Yang|    579 Nolan Harbor|South Christopher...|  South Dakota|             unknown|         Lindsey LLC|Programmer, appli...|maryduran@example...|  (241)738-0972x658|    180039947294310|GB48WNWB013807482...|          HRK|       3061.0|       B|      X|       No|2020-08-31 20:40:...|Notice paper son ...| Female|        Single|\n",
      "|2024-03-22 16:46:...| 66.59|        Transfer|Dalton Jimenez|4330 Christine Vista|        Port Kirsten|       unknown|            Cameroon|         Carroll LLC|             unknown|             unknown|       670-499-0309|    213171934267032|GB05MHXA361278613...|          BAM|       3958.0| unknown|unknown|      Yes|2022-09-19 03:52:...|He wish soldier t...|   Male|        Single|\n",
      "+--------------------+------+----------------+--------------+--------------------+--------------------+--------------+--------------------+--------------------+--------------------+--------------------+-------------------+-------------------+--------------------+-------------+-------------+--------+-------+---------+--------------------+--------------------+-------+--------------+\n",
      "only showing top 10 rows\n",
      "\n"
     ]
    }
   ],
   "source": [
    "# To have an overview of summary statistics of the data\n",
    "Century_bank_clean.show(10)"
   ]
  },
  {
   "cell_type": "code",
   "execution_count": null,
   "metadata": {},
   "outputs": [],
   "source": [
    "# create a data model using the appropriate tool ( lucid or draw io)\n"
   ]
  },
  {
   "cell_type": "code",
   "execution_count": null,
   "metadata": {},
   "outputs": [],
   "source": [
    "Century_bank_clean.columns"
   ]
  },
  {
   "cell_type": "markdown",
   "metadata": {},
   "source": [
    "### Table creation"
   ]
  },
  {
   "cell_type": "code",
   "execution_count": null,
   "metadata": {},
   "outputs": [],
   "source": [
    "# Transactaction table\n",
    "Transaction = Century_bank_clean.select('Transaction_Date', 'Amount', 'Transaction_Type')\n",
    "# Add the transaction_ID column\n",
    "Transaction = Transaction.withColumn('Transaction_ID', monotonically_increasing_id())\n",
    "# Reordering columns to make sure the added column comes first\n",
    "Transaction = Transaction.select('Transaction_ID','Transaction_Date', 'Amount', 'Transaction_Type')\n",
    "\n",
    "#Transaction.show()"
   ]
  },
  {
   "cell_type": "code",
   "execution_count": null,
   "metadata": {},
   "outputs": [],
   "source": [
    "# Customer table\n",
    "# to reduce reductancy or repeatation where one customer made multiple purchase use (.distinct)\n",
    "Customer = Century_bank_clean.select('Customer_Name','Customer_Address','Customer_City',\n",
    "                                        'Customer_State','Customer_Country','Email','Phone_Number').distinct()\n",
    "# Add the Customer_ID column\n",
    "Customer = Customer.withColumn('Customer_ID', monotonically_increasing_id())\n",
    "# Reordering columns to make sure the added column comes first\n",
    "Customer = Customer.select('Customer_ID','Customer_Name','Customer_Address','Customer_City',\n",
    "                                        'Customer_State','Customer_Country','Email','Phone_Number')\n",
    "\n",
    "#Customer.show()"
   ]
  },
  {
   "cell_type": "code",
   "execution_count": null,
   "metadata": {},
   "outputs": [],
   "source": [
    "# Employee table\n",
    "Employee = Century_bank_clean.select('Company','Job_Title','Gender','Marital_Status').distinct()\n",
    "# Add the Customer_ID column\n",
    "Employee = Employee.withColumn('Employee_ID', monotonically_increasing_id())\n",
    "# Reordering columns to make sure the added column comes first\n",
    "Employee = Employee.select('Employee_ID','Company','Job_Title','Gender','Marital_Status')\n",
    "\n",
    "Employee.show()"
   ]
  },
  {
   "cell_type": "code",
   "execution_count": null,
   "metadata": {},
   "outputs": [],
   "source": [
    "# Fact table\n",
    "Fact_table = Century_bank_df.join(Customer, ['Customer_Name','Customer_Address','Customer_City',\\\n",
    "                                        'Customer_State','Customer_Country','Email','Phone_Number'], 'left')\\\n",
    "                         .join(Transaction, ['Transaction_Date', 'Amount', 'Transaction_Type'],'left')\\\n",
    "                         .join(Employee, ['Company','Job_Title','Gender','Marital_Status'], 'left')\\\n",
    "                         .select('Transaction_ID','Customer_ID','Employee_ID','Credit_Card_Number','IBAN',\\\n",
    "                                 'Currency_Code','Random_Number','Category','Group','Is_Active','Last_Updated','Description',)   \n",
    "\n",
    "\n",
    "Fact_table.show()\n"
   ]
  },
  {
   "cell_type": "code",
   "execution_count": null,
   "metadata": {},
   "outputs": [],
   "source": [
    "# output or save transformed data as csv file\n",
    "#Transaction.repartition(1).write.mode('overwrite').option('header', 'True').csv(r'C:\\Users\\back2\\Desktop\\(PYSPARK case_study)/Transaction')\n",
    "#Employee.repartition(1).write.mode('overwrite').option('header', 'True').csv(r'C:\\Users\\back2\\Desktop\\(PYSPARK case_study)/Employee')\n",
    "#Customer.repartition(1).write.mode('overwrite').option('header', 'True').csv(r'C:\\Users\\back2\\Desktop\\(PYSPARK case_study)/Customer')\n",
    "#Fact_table.repartition(1).write.mode('overwrite').option('header', 'True').csv(r'C:\\Users\\back2\\Desktop\\(PYSPARK case_study)/Fact_table')\n"
   ]
  },
  {
   "cell_type": "code",
   "execution_count": null,
   "metadata": {},
   "outputs": [],
   "source": [
    "# convert spark_df to pandas_df\n",
    "Transaction_pd_df = Transaction.toPandas()\n",
    "Customer_pd_df = Customer.toPandas()\n",
    "Employee_pd_df = Employee.toPandas()\n",
    "Fact_table_pd_df = Fact_table.toPandas()\n"
   ]
  },
  {
   "cell_type": "code",
   "execution_count": null,
   "metadata": {},
   "outputs": [],
   "source": [
    "# Define database parameters including the database name\n",
    "db_params ={\n",
    "    'username': 'postgres',\n",
    "    'password': '0852',\n",
    "    'host': 'localhost',\n",
    "    'port': '5432',\n",
    "    'database': 'nuga_bank'\n",
    "}\n",
    "db_url = f\"postgresql://{db_params['username']}:{db_params['password']}@{db_params['host']}:{db_params['port']}/{db_params['database']}\"\n",
    "# create the database engine with the db url\n",
    "engine = create_engine(db_url)\n",
    "# connect to PostgreSQL server\n",
    "with engine.connect() as connection:\n",
    "\n",
    "# create table and load the data\n",
    "    Transaction_pd_df.to_sql('Transaction', connection, index=False, if_exists='replace')\n",
    "    Customer_pd_df.to_sql('Customer', connection, index=False, if_exists='replace')\n",
    "    Employee_pd_df.to_sql('Employee', connection, index=False, if_exists='replace')\n",
    "    Fact_table_pd_df.to_sql('Fact_table', connection, index=False, if_exists='replace')\n",
    "print('successfull')"
   ]
  }
 ],
 "metadata": {
  "kernelspec": {
   "display_name": "Python 3",
   "language": "python",
   "name": "python3"
  },
  "language_info": {
   "codemirror_mode": {
    "name": "ipython",
    "version": 3
   },
   "file_extension": ".py",
   "mimetype": "text/x-python",
   "name": "python",
   "nbconvert_exporter": "python",
   "pygments_lexer": "ipython3",
   "version": "3.12.8"
  }
 },
 "nbformat": 4,
 "nbformat_minor": 2
}
